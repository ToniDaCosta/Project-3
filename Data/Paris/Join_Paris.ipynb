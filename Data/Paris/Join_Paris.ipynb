{
 "cells": [
  {
   "cell_type": "code",
   "execution_count": null,
   "id": "05157b6a",
   "metadata": {},
   "outputs": [],
   "source": [
    "import Pandas as pd\n",
    "import os"
   ]
  },
  {
   "cell_type": "code",
   "execution_count": null,
   "id": "ca812ba3",
   "metadata": {},
   "outputs": [],
   "source": [
    "paris_bars = r\"C:\\Users\\ateso\\Desktop\\Ironhack\\Project-3\\Data\\Paris\\Bars\\paris_bar.csv\"\n",
    "df_bars = pd.read_csv(paris_bars)\n",
    "df_bars['Local_type'] = 'Bar'\n",
    "\n",
    "df_bars.sample(2)"
   ]
  },
  {
   "cell_type": "code",
   "execution_count": null,
   "id": "5e041ab8",
   "metadata": {},
   "outputs": [],
   "source": [
    "paris_gym = r\"C:\\Users\\ateso\\Desktop\\Ironhack\\Project-3\\Data\\Paris\\Gyms\\paris_gym.csv\"\n",
    "df_gym = pd.read_csv(paris_gym)\n",
    "df_gym['Local_type'] = 'Gym'\n",
    "\n",
    "df_gym.sample(2)"
   ]
  },
  {
   "cell_type": "code",
   "execution_count": null,
   "id": "180f3830",
   "metadata": {},
   "outputs": [],
   "source": [
    "paris_school = r\"C:\\Users\\ateso\\Desktop\\Ironhack\\Project-3\\Data\\Paris\\Schools\\paris_schools.csv\"\n",
    "df_school = pd.read_csv(paris_school)\n",
    "df_school['Local_type'] = 'Schools'\n",
    "\n",
    "df_school.sample(2)"
   ]
  },
  {
   "cell_type": "code",
   "execution_count": null,
   "id": "5a1b3d15",
   "metadata": {},
   "outputs": [],
   "source": [
    "paris_others = r\"C:\\Users\\ateso\\Desktop\\Ironhack\\Project-3\\Data\\Paris\\other_places\\paris_others.csv\"\n",
    "df_others = pd.read_csv(paris_others)\n",
    "df_others['Local_type'] = 'Others'\n",
    "\n",
    "df_others.sample(2)"
   ]
  },
  {
   "cell_type": "code",
   "execution_count": null,
   "id": "293dadcc",
   "metadata": {},
   "outputs": [],
   "source": [
    "paris_restaurants = r\"C:\\Users\\ateso\\Desktop\\Ironhack\\Project-3\\Data\\Paris\\Restaurants\\paris_restaurants.csv\"\n",
    "df_restaurants = pd.read_csv(paris_restaurants)\n",
    "df_restaurants['Local_type'] = 'Restaurants'\n",
    "\n",
    "df_restaurants.sample(2)"
   ]
  },
  {
   "cell_type": "code",
   "execution_count": null,
   "id": "bc210cfc",
   "metadata": {},
   "outputs": [],
   "source": [
    "df_combined = pd.concat([df_bars, df_gym, df_school, df_others, df_restaurants], ignore_index=True)\n",
    "df_combined.sample(2)"
   ]
  },
  {
   "cell_type": "code",
   "execution_count": null,
   "id": "a7b68ac2",
   "metadata": {},
   "outputs": [],
   "source": [
    "output_directory = \"C:\\\\Users\\\\ateso\\\\Desktop\\\\Ironhack\\\\Project-3\\\\Data\\\\Paris\"\n",
    "output_filename = \"combined_paris_data.csv\"\n",
    "\n",
    "output_path = os.path.join(output_directory, output_filename)\n",
    "df_combined.to_csv(output_path, index=False)\n",
    "\n",
    "print(f\"Combined data exported to {output_path}\")"
   ]
  },
  {
   "cell_type": "code",
   "execution_count": null,
   "id": "d9b721cd",
   "metadata": {},
   "outputs": [],
   "source": []
  }
 ],
 "metadata": {
  "kernelspec": {
   "display_name": "ironhack",
   "language": "python",
   "name": "ironhack"
  },
  "language_info": {
   "codemirror_mode": {
    "name": "ipython",
    "version": 3
   },
   "file_extension": ".py",
   "mimetype": "text/x-python",
   "name": "python",
   "nbconvert_exporter": "python",
   "pygments_lexer": "ipython3",
   "version": "3.11.5"
  }
 },
 "nbformat": 4,
 "nbformat_minor": 5
}
