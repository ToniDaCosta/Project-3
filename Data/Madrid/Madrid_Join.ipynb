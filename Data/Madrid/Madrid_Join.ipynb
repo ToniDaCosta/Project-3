{
 "cells": [
  {
   "cell_type": "code",
   "execution_count": 3,
   "id": "f213bffd",
   "metadata": {},
   "outputs": [
    {
     "name": "stderr",
     "output_type": "stream",
     "text": [
      "C:\\Users\\ateso\\AppData\\Local\\Temp\\ipykernel_26916\\3026406390.py:1: DeprecationWarning: \n",
      "Pyarrow will become a required dependency of pandas in the next major release of pandas (pandas 3.0),\n",
      "(to allow more performant data types, such as the Arrow string type, and better interoperability with other libraries)\n",
      "but was not found to be installed on your system.\n",
      "If this would cause problems for you,\n",
      "please provide us feedback at https://github.com/pandas-dev/pandas/issues/54466\n",
      "        \n",
      "  import pandas as pd\n"
     ]
    }
   ],
   "source": [
    "import pandas as pd\n",
    "import os"
   ]
  },
  {
   "cell_type": "code",
   "execution_count": 4,
   "id": "54bac96c",
   "metadata": {},
   "outputs": [
    {
     "data": {
      "text/html": [
       "<div>\n",
       "<style scoped>\n",
       "    .dataframe tbody tr th:only-of-type {\n",
       "        vertical-align: middle;\n",
       "    }\n",
       "\n",
       "    .dataframe tbody tr th {\n",
       "        vertical-align: top;\n",
       "    }\n",
       "\n",
       "    .dataframe thead th {\n",
       "        text-align: right;\n",
       "    }\n",
       "</style>\n",
       "<table border=\"1\" class=\"dataframe\">\n",
       "  <thead>\n",
       "    <tr style=\"text-align: right;\">\n",
       "      <th></th>\n",
       "      <th>Name</th>\n",
       "      <th>Latitude</th>\n",
       "      <th>Longitude</th>\n",
       "      <th>Local_type</th>\n",
       "    </tr>\n",
       "  </thead>\n",
       "  <tbody>\n",
       "    <tr>\n",
       "      <th>49</th>\n",
       "      <td>Taberna Origen</td>\n",
       "      <td>40.426594</td>\n",
       "      <td>-3.716323</td>\n",
       "      <td>Bar</td>\n",
       "    </tr>\n",
       "    <tr>\n",
       "      <th>38</th>\n",
       "      <td>Labirratorium</td>\n",
       "      <td>40.433781</td>\n",
       "      <td>-3.708548</td>\n",
       "      <td>Bar</td>\n",
       "    </tr>\n",
       "  </tbody>\n",
       "</table>\n",
       "</div>"
      ],
      "text/plain": [
       "              Name   Latitude  Longitude Local_type\n",
       "49  Taberna Origen  40.426594  -3.716323        Bar\n",
       "38   Labirratorium  40.433781  -3.708548        Bar"
      ]
     },
     "execution_count": 4,
     "metadata": {},
     "output_type": "execute_result"
    }
   ],
   "source": [
    "Madrid_bars = r\"C:\\Users\\ateso\\Desktop\\Ironhack\\Project-3\\Data\\Madrid\\Bars\\Bars.csv\"\n",
    "df_bars = pd.read_csv(Madrid_bars)\n",
    "df_bars['Local_type'] = 'Bar'\n",
    "\n",
    "df_bars.sample(2)"
   ]
  },
  {
   "cell_type": "code",
   "execution_count": 5,
   "id": "93a48cf0",
   "metadata": {},
   "outputs": [
    {
     "data": {
      "text/html": [
       "<div>\n",
       "<style scoped>\n",
       "    .dataframe tbody tr th:only-of-type {\n",
       "        vertical-align: middle;\n",
       "    }\n",
       "\n",
       "    .dataframe tbody tr th {\n",
       "        vertical-align: top;\n",
       "    }\n",
       "\n",
       "    .dataframe thead th {\n",
       "        text-align: right;\n",
       "    }\n",
       "</style>\n",
       "<table border=\"1\" class=\"dataframe\">\n",
       "  <thead>\n",
       "    <tr style=\"text-align: right;\">\n",
       "      <th></th>\n",
       "      <th>Name</th>\n",
       "      <th>Latitude</th>\n",
       "      <th>Longitude</th>\n",
       "      <th>Local_type</th>\n",
       "    </tr>\n",
       "  </thead>\n",
       "  <tbody>\n",
       "    <tr>\n",
       "      <th>12</th>\n",
       "      <td>Metropolitan Eurobuilding</td>\n",
       "      <td>40.458131</td>\n",
       "      <td>-3.685796</td>\n",
       "      <td>Gym</td>\n",
       "    </tr>\n",
       "    <tr>\n",
       "      <th>8</th>\n",
       "      <td>Rebel Gym</td>\n",
       "      <td>40.443375</td>\n",
       "      <td>-3.696102</td>\n",
       "      <td>Gym</td>\n",
       "    </tr>\n",
       "  </tbody>\n",
       "</table>\n",
       "</div>"
      ],
      "text/plain": [
       "                         Name   Latitude  Longitude Local_type\n",
       "12  Metropolitan Eurobuilding  40.458131  -3.685796        Gym\n",
       "8                   Rebel Gym  40.443375  -3.696102        Gym"
      ]
     },
     "execution_count": 5,
     "metadata": {},
     "output_type": "execute_result"
    }
   ],
   "source": [
    "Madrid_gym = r\"C:\\Users\\ateso\\Desktop\\Ironhack\\Project-3\\Data\\Madrid\\Gyms\\Gym.csv\"\n",
    "df_gym = pd.read_csv(Madrid_gym)\n",
    "df_gym['Local_type'] = 'Gym'\n",
    "\n",
    "df_gym.sample(2)"
   ]
  },
  {
   "cell_type": "code",
   "execution_count": 6,
   "id": "75db50a0",
   "metadata": {},
   "outputs": [
    {
     "data": {
      "text/html": [
       "<div>\n",
       "<style scoped>\n",
       "    .dataframe tbody tr th:only-of-type {\n",
       "        vertical-align: middle;\n",
       "    }\n",
       "\n",
       "    .dataframe tbody tr th {\n",
       "        vertical-align: top;\n",
       "    }\n",
       "\n",
       "    .dataframe thead th {\n",
       "        text-align: right;\n",
       "    }\n",
       "</style>\n",
       "<table border=\"1\" class=\"dataframe\">\n",
       "  <thead>\n",
       "    <tr style=\"text-align: right;\">\n",
       "      <th></th>\n",
       "      <th>Name</th>\n",
       "      <th>Latitude</th>\n",
       "      <th>Longitude</th>\n",
       "      <th>Local_type</th>\n",
       "    </tr>\n",
       "  </thead>\n",
       "  <tbody>\n",
       "    <tr>\n",
       "      <th>29</th>\n",
       "      <td>Colegio Highlands Encinar</td>\n",
       "      <td>40.503931</td>\n",
       "      <td>-3.638563</td>\n",
       "      <td>Schools</td>\n",
       "    </tr>\n",
       "    <tr>\n",
       "      <th>20</th>\n",
       "      <td>Colegio Fuentelarreyna</td>\n",
       "      <td>40.483961</td>\n",
       "      <td>-3.729305</td>\n",
       "      <td>Schools</td>\n",
       "    </tr>\n",
       "  </tbody>\n",
       "</table>\n",
       "</div>"
      ],
      "text/plain": [
       "                         Name   Latitude  Longitude Local_type\n",
       "29  Colegio Highlands Encinar  40.503931  -3.638563    Schools\n",
       "20     Colegio Fuentelarreyna  40.483961  -3.729305    Schools"
      ]
     },
     "execution_count": 6,
     "metadata": {},
     "output_type": "execute_result"
    }
   ],
   "source": [
    "Madrid_school = r\"C:\\Users\\ateso\\Desktop\\Ironhack\\Project-3\\Data\\Madrid\\Schools\\Schools.csv\"\n",
    "df_school = pd.read_csv(Madrid_school)\n",
    "df_school['Local_type'] = 'Schools'\n",
    "\n",
    "df_school.sample(2)"
   ]
  },
  {
   "cell_type": "code",
   "execution_count": 9,
   "id": "c4d38092",
   "metadata": {},
   "outputs": [
    {
     "data": {
      "text/html": [
       "<div>\n",
       "<style scoped>\n",
       "    .dataframe tbody tr th:only-of-type {\n",
       "        vertical-align: middle;\n",
       "    }\n",
       "\n",
       "    .dataframe tbody tr th {\n",
       "        vertical-align: top;\n",
       "    }\n",
       "\n",
       "    .dataframe thead th {\n",
       "        text-align: right;\n",
       "    }\n",
       "</style>\n",
       "<table border=\"1\" class=\"dataframe\">\n",
       "  <thead>\n",
       "    <tr style=\"text-align: right;\">\n",
       "      <th></th>\n",
       "      <th>Name</th>\n",
       "      <th>Latitude</th>\n",
       "      <th>Longitude</th>\n",
       "      <th>Local_type</th>\n",
       "    </tr>\n",
       "  </thead>\n",
       "  <tbody>\n",
       "    <tr>\n",
       "      <th>32</th>\n",
       "      <td>Pabellón Satélite</td>\n",
       "      <td>40.413763</td>\n",
       "      <td>-3.737977</td>\n",
       "      <td>Others</td>\n",
       "    </tr>\n",
       "    <tr>\n",
       "      <th>96</th>\n",
       "      <td>Parque de Pradolongo</td>\n",
       "      <td>40.375005</td>\n",
       "      <td>-3.707662</td>\n",
       "      <td>Others</td>\n",
       "    </tr>\n",
       "  </tbody>\n",
       "</table>\n",
       "</div>"
      ],
      "text/plain": [
       "                    Name   Latitude  Longitude Local_type\n",
       "32     Pabellón Satélite  40.413763  -3.737977     Others\n",
       "96  Parque de Pradolongo  40.375005  -3.707662     Others"
      ]
     },
     "execution_count": 9,
     "metadata": {},
     "output_type": "execute_result"
    }
   ],
   "source": [
    "Madrid_others = r\"C:\\Users\\ateso\\Desktop\\Ironhack\\Project-3\\Data\\Madrid\\other_places\\Others.csv\"\n",
    "df_others = pd.read_csv(Madrid_others)\n",
    "df_others['Local_type'] = 'Others'\n",
    "\n",
    "df_others.sample(2)"
   ]
  },
  {
   "cell_type": "code",
   "execution_count": 10,
   "id": "9cc6d9ae",
   "metadata": {},
   "outputs": [
    {
     "data": {
      "text/html": [
       "<div>\n",
       "<style scoped>\n",
       "    .dataframe tbody tr th:only-of-type {\n",
       "        vertical-align: middle;\n",
       "    }\n",
       "\n",
       "    .dataframe tbody tr th {\n",
       "        vertical-align: top;\n",
       "    }\n",
       "\n",
       "    .dataframe thead th {\n",
       "        text-align: right;\n",
       "    }\n",
       "</style>\n",
       "<table border=\"1\" class=\"dataframe\">\n",
       "  <thead>\n",
       "    <tr style=\"text-align: right;\">\n",
       "      <th></th>\n",
       "      <th>Name</th>\n",
       "      <th>Latitude</th>\n",
       "      <th>Longitude</th>\n",
       "      <th>Local_type</th>\n",
       "    </tr>\n",
       "  </thead>\n",
       "  <tbody>\n",
       "    <tr>\n",
       "      <th>18</th>\n",
       "      <td>Taberna Laredo</td>\n",
       "      <td>40.420182</td>\n",
       "      <td>-3.675157</td>\n",
       "      <td>Restaurants</td>\n",
       "    </tr>\n",
       "    <tr>\n",
       "      <th>12</th>\n",
       "      <td>Zuma Madrid</td>\n",
       "      <td>40.426315</td>\n",
       "      <td>-3.689566</td>\n",
       "      <td>Restaurants</td>\n",
       "    </tr>\n",
       "  </tbody>\n",
       "</table>\n",
       "</div>"
      ],
      "text/plain": [
       "              Name   Latitude  Longitude   Local_type\n",
       "18  Taberna Laredo  40.420182  -3.675157  Restaurants\n",
       "12     Zuma Madrid  40.426315  -3.689566  Restaurants"
      ]
     },
     "execution_count": 10,
     "metadata": {},
     "output_type": "execute_result"
    }
   ],
   "source": [
    "Madrid_restaurants = r\"C:\\Users\\ateso\\Desktop\\Ironhack\\Project-3\\Data\\Madrid\\Restaurants\\Restaurants.csv\"\n",
    "df_restaurants = pd.read_csv(Madrid_restaurants)\n",
    "df_restaurants['Local_type'] = 'Restaurants'\n",
    "\n",
    "df_restaurants.sample(2)"
   ]
  },
  {
   "cell_type": "code",
   "execution_count": 11,
   "id": "5d72894c",
   "metadata": {},
   "outputs": [
    {
     "data": {
      "text/html": [
       "<div>\n",
       "<style scoped>\n",
       "    .dataframe tbody tr th:only-of-type {\n",
       "        vertical-align: middle;\n",
       "    }\n",
       "\n",
       "    .dataframe tbody tr th {\n",
       "        vertical-align: top;\n",
       "    }\n",
       "\n",
       "    .dataframe thead th {\n",
       "        text-align: right;\n",
       "    }\n",
       "</style>\n",
       "<table border=\"1\" class=\"dataframe\">\n",
       "  <thead>\n",
       "    <tr style=\"text-align: right;\">\n",
       "      <th></th>\n",
       "      <th>Name</th>\n",
       "      <th>Latitude</th>\n",
       "      <th>Longitude</th>\n",
       "      <th>Local_type</th>\n",
       "    </tr>\n",
       "  </thead>\n",
       "  <tbody>\n",
       "    <tr>\n",
       "      <th>289</th>\n",
       "      <td>Flanker</td>\n",
       "      <td>40.494123</td>\n",
       "      <td>-3.880463</td>\n",
       "      <td>Restaurants</td>\n",
       "    </tr>\n",
       "    <tr>\n",
       "      <th>143</th>\n",
       "      <td>Instituto San Isidro</td>\n",
       "      <td>40.412616</td>\n",
       "      <td>-3.707359</td>\n",
       "      <td>Schools</td>\n",
       "    </tr>\n",
       "  </tbody>\n",
       "</table>\n",
       "</div>"
      ],
      "text/plain": [
       "                     Name   Latitude  Longitude   Local_type\n",
       "289               Flanker  40.494123  -3.880463  Restaurants\n",
       "143  Instituto San Isidro  40.412616  -3.707359      Schools"
      ]
     },
     "execution_count": 11,
     "metadata": {},
     "output_type": "execute_result"
    }
   ],
   "source": [
    "df_combined = pd.concat([df_bars, df_gym, df_school, df_others, df_restaurants], ignore_index=True)\n",
    "df_combined.sample(2)"
   ]
  },
  {
   "cell_type": "code",
   "execution_count": 12,
   "id": "1591bd84",
   "metadata": {},
   "outputs": [
    {
     "name": "stdout",
     "output_type": "stream",
     "text": [
      "Combined data exported to C:\\Users\\ateso\\Desktop\\Ironhack\\Project-3\\Data\\Madrid\\combined_Madrid_data.csv\n"
     ]
    }
   ],
   "source": [
    "output_directory = \"C:\\\\Users\\\\ateso\\\\Desktop\\\\Ironhack\\\\Project-3\\\\Data\\\\Madrid\"\n",
    "output_filename = \"combined_Madrid_data.csv\"\n",
    "\n",
    "output_path = os.path.join(output_directory, output_filename)\n",
    "df_combined.to_csv(output_path, index=False)\n",
    "\n",
    "print(f\"Combined data exported to {output_path}\")"
   ]
  },
  {
   "cell_type": "code",
   "execution_count": null,
   "id": "c95d75e6",
   "metadata": {},
   "outputs": [],
   "source": []
  },
  {
   "cell_type": "code",
   "execution_count": null,
   "id": "d47b07ad",
   "metadata": {},
   "outputs": [],
   "source": []
  }
 ],
 "metadata": {
  "kernelspec": {
   "display_name": "ironhack",
   "language": "python",
   "name": "ironhack"
  },
  "language_info": {
   "codemirror_mode": {
    "name": "ipython",
    "version": 3
   },
   "file_extension": ".py",
   "mimetype": "text/x-python",
   "name": "python",
   "nbconvert_exporter": "python",
   "pygments_lexer": "ipython3",
   "version": "3.11.5"
  }
 },
 "nbformat": 4,
 "nbformat_minor": 5
}
