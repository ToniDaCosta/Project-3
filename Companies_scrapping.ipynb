{
 "cells": [
  {
   "cell_type": "code",
   "execution_count": 1,
   "id": "43cb84da",
   "metadata": {},
   "outputs": [
    {
     "name": "stderr",
     "output_type": "stream",
     "text": [
      "C:\\Users\\ateso\\AppData\\Local\\Temp\\ipykernel_23940\\2219277088.py:2: DeprecationWarning: \n",
      "Pyarrow will become a required dependency of pandas in the next major release of pandas (pandas 3.0),\n",
      "(to allow more performant data types, such as the Arrow string type, and better interoperability with other libraries)\n",
      "but was not found to be installed on your system.\n",
      "If this would cause problems for you,\n",
      "please provide us feedback at https://github.com/pandas-dev/pandas/issues/54466\n",
      "        \n",
      "  import pandas as pd\n"
     ]
    }
   ],
   "source": [
    "import requests\n",
    "import pandas as pd\n",
    "import requests\n",
    "import json\n",
    "import pandas as pd\n",
    "from getpass import getpass\n",
    "from pymongo import MongoClient\n",
    "import folium\n",
    "\n",
    "from folium import Choropleth, Circle, Marker, Icon, Map\n",
    "from folium.plugins import HeatMap, MarkerCluster"
   ]
  },
  {
   "cell_type": "code",
   "execution_count": 2,
   "id": "4f15827b",
   "metadata": {},
   "outputs": [
    {
     "data": {
      "text/plain": [
       "MongoClient(host=['localhost:27017'], document_class=dict, tz_aware=False, connect=True)"
      ]
     },
     "execution_count": 2,
     "metadata": {},
     "output_type": "execute_result"
    }
   ],
   "source": [
    "client = MongoClient(\"localhost:27017\")\n",
    "client"
   ]
  },
  {
   "cell_type": "code",
   "execution_count": 5,
   "id": "da4a53f2",
   "metadata": {},
   "outputs": [
    {
     "data": {
      "text/plain": [
       "Collection(Database(MongoClient(host=['localhost:27017'], document_class=dict, tz_aware=False, connect=True), 'ironhack'), 'companies')"
      ]
     },
     "execution_count": 5,
     "metadata": {},
     "output_type": "execute_result"
    }
   ],
   "source": [
    "db = client[\"ironhack\"]\n",
    "\n",
    "c = db.get_collection(\"companies\")\n",
    "\n",
    "c"
   ]
  },
  {
   "cell_type": "code",
   "execution_count": null,
   "id": "772576c3",
   "metadata": {},
   "outputs": [],
   "source": []
  },
  {
   "cell_type": "code",
   "execution_count": 17,
   "id": "4b84a37d",
   "metadata": {},
   "outputs": [
    {
     "name": "stdout",
     "output_type": "stream",
     "text": [
      "Data exported to C:\\Users\\ateso\\Desktop\\Ironhack\\Project-3\\Data\\acsv\\new_csv.csv\n"
     ]
    }
   ],
   "source": [
    "filter_2 = {\"name\": {\"$exists\": True}, \"offices.city\": \"Barcelona\", \"category_code\": \"games_video\"}\n",
    "projection = {\"name\": 1, \"offices.city\": 1, \"category_code\": 1, \"offices.latitude\": 1, \"offices.longitude\": 1}\n",
    "sorting = [(\"name\", 1)]\n",
    "\n",
    "result_list = list(c.find(filter_2, projection).sort(sorting))\n",
    "\n",
    "names_and_coordinates = []\n",
    "for item in result_list:\n",
    "    if 'offices' in item and item['offices']:\n",
    "        for office in item['offices']:\n",
    "            latitude = office.get('latitude')\n",
    "            longitude = office.get('longitude')\n",
    "            if latitude is not None and longitude is not None:\n",
    "                names_and_coordinates.append((item['name'], latitude, longitude))\n",
    "\n",
    "df = pd.DataFrame(names_and_coordinates, columns=['Name', 'Latitude', 'Longitude'])\n",
    "\n",
    "csv_filename = \"C:\\\\Users\\\\ateso\\\\Desktop\\\\Ironhack\\\\Project-3\\\\Data\\\\acsv\\\\new_csv.csv\"\n",
    "df.to_csv(csv_filename, index=False)\n",
    "\n",
    "print(f\"Data exported to {csv_filename}\")\n",
    "\n"
   ]
  },
  {
   "cell_type": "code",
   "execution_count": null,
   "id": "1288332b",
   "metadata": {},
   "outputs": [],
   "source": [
    "def company_city(database_name, collection_name):\n",
    "    \n",
    "    client = MongoClient(\"localhost:27017\")\n",
    "    db = client[database_name]\n",
    "    c = db[collection_name]\n",
    "\n",
    "    filter_2 = {\"name\": {\"$exists\": True}, \"offices.city\": \"Barcelona\", \"category_code\": \"games_video\"}\n",
    "    projection = {\"name\": 1, \"offices.city\": 1, \"category_code\": 1, \"offices.latitude\": 1, \"offices.longitude\": 1}\n",
    "    sorting = [(\"name\", 1)]\n",
    "\n",
    "    result_list = list(c.find(filter_2, projection).sort(sorting))\n",
    "\n",
    "    names_and_coordinates = []\n",
    "    for item in result_list:\n",
    "        if 'offices' in item and item['offices']:\n",
    "            for office in item['offices']:\n",
    "                latitude = office.get('latitude')\n",
    "                longitude = office.get('longitude')\n",
    "                if latitude is not None and longitude is not None:\n",
    "                    names_and_coordinates.append((item['name'], latitude, longitude))\n",
    "\n",
    "    df = pd.DataFrame(names_and_coordinates, columns=['Name', 'Latitude', 'Longitude'])\n",
    "\n",
    "    csv_filename = \"C:\\\\Users\\\\ateso\\\\Desktop\\\\Ironhack\\\\Project-3\\\\Data\\\\acsv\\\\new_csv.csv\"\n",
    "    df.to_csv(csv_filename, index=False)\n",
    "\n",
    "    print(f\"Data exported to {csv_filename}\")\n",
    "\n"
   ]
  }
 ],
 "metadata": {
  "kernelspec": {
   "display_name": "ironhack",
   "language": "python",
   "name": "ironhack"
  },
  "language_info": {
   "codemirror_mode": {
    "name": "ipython",
    "version": 3
   },
   "file_extension": ".py",
   "mimetype": "text/x-python",
   "name": "python",
   "nbconvert_exporter": "python",
   "pygments_lexer": "ipython3",
   "version": "3.11.5"
  }
 },
 "nbformat": 4,
 "nbformat_minor": 5
}
